{
 "cells": [
  {
   "cell_type": "markdown",
   "metadata": {},
   "source": [
    "### Open the dataset."
   ]
  },
  {
   "cell_type": "code",
   "execution_count": 2,
   "metadata": {},
   "outputs": [],
   "source": [
    "import pandas as pd\n",
    "ames_housing = pd.read_csv(\"../datasets/house_prices.csv\", na_values=\"?\")\n",
    "target_name = \"SalePrice\"\n",
    "data = ames_housing.drop(columns=target_name)\n",
    "target = ames_housing[target_name]"
   ]
  },
  {
   "cell_type": "code",
   "execution_count": 3,
   "metadata": {},
   "outputs": [],
   "source": [
    "numerical_features = [\n",
    "    \"LotFrontage\", \"LotArea\", \"MasVnrArea\", \"BsmtFinSF1\", \"BsmtFinSF2\",\n",
    "    \"BsmtUnfSF\", \"TotalBsmtSF\", \"1stFlrSF\", \"2ndFlrSF\", \"LowQualFinSF\",\n",
    "    \"GrLivArea\", \"BedroomAbvGr\", \"KitchenAbvGr\", \"TotRmsAbvGrd\", \"Fireplaces\",\n",
    "    \"GarageCars\", \"GarageArea\", \"WoodDeckSF\", \"OpenPorchSF\", \"EnclosedPorch\",\n",
    "    \"3SsnPorch\", \"ScreenPorch\", \"PoolArea\", \"MiscVal\",\n",
    "]\n",
    "\n",
    "data_numerical = data[numerical_features]"
   ]
  },
  {
   "cell_type": "code",
   "execution_count": 4,
   "metadata": {},
   "outputs": [
    {
     "data": {
      "text/html": [
       "<div>\n",
       "<style scoped>\n",
       "    .dataframe tbody tr th:only-of-type {\n",
       "        vertical-align: middle;\n",
       "    }\n",
       "\n",
       "    .dataframe tbody tr th {\n",
       "        vertical-align: top;\n",
       "    }\n",
       "\n",
       "    .dataframe thead th {\n",
       "        text-align: right;\n",
       "    }\n",
       "</style>\n",
       "<table border=\"1\" class=\"dataframe\">\n",
       "  <thead>\n",
       "    <tr style=\"text-align: right;\">\n",
       "      <th></th>\n",
       "      <th>index</th>\n",
       "      <th>LotFrontage</th>\n",
       "      <th>LotArea</th>\n",
       "      <th>MasVnrArea</th>\n",
       "      <th>BsmtFinSF1</th>\n",
       "      <th>BsmtFinSF2</th>\n",
       "      <th>BsmtUnfSF</th>\n",
       "      <th>TotalBsmtSF</th>\n",
       "      <th>1stFlrSF</th>\n",
       "      <th>2ndFlrSF</th>\n",
       "      <th>...</th>\n",
       "      <th>Fireplaces</th>\n",
       "      <th>GarageCars</th>\n",
       "      <th>GarageArea</th>\n",
       "      <th>WoodDeckSF</th>\n",
       "      <th>OpenPorchSF</th>\n",
       "      <th>EnclosedPorch</th>\n",
       "      <th>3SsnPorch</th>\n",
       "      <th>ScreenPorch</th>\n",
       "      <th>PoolArea</th>\n",
       "      <th>MiscVal</th>\n",
       "    </tr>\n",
       "  </thead>\n",
       "  <tbody>\n",
       "    <tr>\n",
       "      <th>0</th>\n",
       "      <td>count</td>\n",
       "      <td>1201.000000</td>\n",
       "      <td>1460.000000</td>\n",
       "      <td>1452.000000</td>\n",
       "      <td>1460.000000</td>\n",
       "      <td>1460.000000</td>\n",
       "      <td>1460.000000</td>\n",
       "      <td>1460.000000</td>\n",
       "      <td>1460.000000</td>\n",
       "      <td>1460.000000</td>\n",
       "      <td>...</td>\n",
       "      <td>1460.000000</td>\n",
       "      <td>1460.000000</td>\n",
       "      <td>1460.000000</td>\n",
       "      <td>1460.000000</td>\n",
       "      <td>1460.000000</td>\n",
       "      <td>1460.000000</td>\n",
       "      <td>1460.000000</td>\n",
       "      <td>1460.000000</td>\n",
       "      <td>1460.000000</td>\n",
       "      <td>1460.000000</td>\n",
       "    </tr>\n",
       "    <tr>\n",
       "      <th>1</th>\n",
       "      <td>mean</td>\n",
       "      <td>70.049958</td>\n",
       "      <td>10516.828082</td>\n",
       "      <td>103.685262</td>\n",
       "      <td>443.639726</td>\n",
       "      <td>46.549315</td>\n",
       "      <td>567.240411</td>\n",
       "      <td>1057.429452</td>\n",
       "      <td>1162.626712</td>\n",
       "      <td>346.992466</td>\n",
       "      <td>...</td>\n",
       "      <td>0.613014</td>\n",
       "      <td>1.767123</td>\n",
       "      <td>472.980137</td>\n",
       "      <td>94.244521</td>\n",
       "      <td>46.660274</td>\n",
       "      <td>21.954110</td>\n",
       "      <td>3.409589</td>\n",
       "      <td>15.060959</td>\n",
       "      <td>2.758904</td>\n",
       "      <td>43.489041</td>\n",
       "    </tr>\n",
       "    <tr>\n",
       "      <th>2</th>\n",
       "      <td>std</td>\n",
       "      <td>24.284752</td>\n",
       "      <td>9981.264932</td>\n",
       "      <td>181.066207</td>\n",
       "      <td>456.098091</td>\n",
       "      <td>161.319273</td>\n",
       "      <td>441.866955</td>\n",
       "      <td>438.705324</td>\n",
       "      <td>386.587738</td>\n",
       "      <td>436.528436</td>\n",
       "      <td>...</td>\n",
       "      <td>0.644666</td>\n",
       "      <td>0.747315</td>\n",
       "      <td>213.804841</td>\n",
       "      <td>125.338794</td>\n",
       "      <td>66.256028</td>\n",
       "      <td>61.119149</td>\n",
       "      <td>29.317331</td>\n",
       "      <td>55.757415</td>\n",
       "      <td>40.177307</td>\n",
       "      <td>496.123024</td>\n",
       "    </tr>\n",
       "    <tr>\n",
       "      <th>3</th>\n",
       "      <td>min</td>\n",
       "      <td>21.000000</td>\n",
       "      <td>1300.000000</td>\n",
       "      <td>0.000000</td>\n",
       "      <td>0.000000</td>\n",
       "      <td>0.000000</td>\n",
       "      <td>0.000000</td>\n",
       "      <td>0.000000</td>\n",
       "      <td>334.000000</td>\n",
       "      <td>0.000000</td>\n",
       "      <td>...</td>\n",
       "      <td>0.000000</td>\n",
       "      <td>0.000000</td>\n",
       "      <td>0.000000</td>\n",
       "      <td>0.000000</td>\n",
       "      <td>0.000000</td>\n",
       "      <td>0.000000</td>\n",
       "      <td>0.000000</td>\n",
       "      <td>0.000000</td>\n",
       "      <td>0.000000</td>\n",
       "      <td>0.000000</td>\n",
       "    </tr>\n",
       "    <tr>\n",
       "      <th>4</th>\n",
       "      <td>25%</td>\n",
       "      <td>59.000000</td>\n",
       "      <td>7553.500000</td>\n",
       "      <td>0.000000</td>\n",
       "      <td>0.000000</td>\n",
       "      <td>0.000000</td>\n",
       "      <td>223.000000</td>\n",
       "      <td>795.750000</td>\n",
       "      <td>882.000000</td>\n",
       "      <td>0.000000</td>\n",
       "      <td>...</td>\n",
       "      <td>0.000000</td>\n",
       "      <td>1.000000</td>\n",
       "      <td>334.500000</td>\n",
       "      <td>0.000000</td>\n",
       "      <td>0.000000</td>\n",
       "      <td>0.000000</td>\n",
       "      <td>0.000000</td>\n",
       "      <td>0.000000</td>\n",
       "      <td>0.000000</td>\n",
       "      <td>0.000000</td>\n",
       "    </tr>\n",
       "    <tr>\n",
       "      <th>5</th>\n",
       "      <td>50%</td>\n",
       "      <td>69.000000</td>\n",
       "      <td>9478.500000</td>\n",
       "      <td>0.000000</td>\n",
       "      <td>383.500000</td>\n",
       "      <td>0.000000</td>\n",
       "      <td>477.500000</td>\n",
       "      <td>991.500000</td>\n",
       "      <td>1087.000000</td>\n",
       "      <td>0.000000</td>\n",
       "      <td>...</td>\n",
       "      <td>1.000000</td>\n",
       "      <td>2.000000</td>\n",
       "      <td>480.000000</td>\n",
       "      <td>0.000000</td>\n",
       "      <td>25.000000</td>\n",
       "      <td>0.000000</td>\n",
       "      <td>0.000000</td>\n",
       "      <td>0.000000</td>\n",
       "      <td>0.000000</td>\n",
       "      <td>0.000000</td>\n",
       "    </tr>\n",
       "    <tr>\n",
       "      <th>6</th>\n",
       "      <td>75%</td>\n",
       "      <td>80.000000</td>\n",
       "      <td>11601.500000</td>\n",
       "      <td>166.000000</td>\n",
       "      <td>712.250000</td>\n",
       "      <td>0.000000</td>\n",
       "      <td>808.000000</td>\n",
       "      <td>1298.250000</td>\n",
       "      <td>1391.250000</td>\n",
       "      <td>728.000000</td>\n",
       "      <td>...</td>\n",
       "      <td>1.000000</td>\n",
       "      <td>2.000000</td>\n",
       "      <td>576.000000</td>\n",
       "      <td>168.000000</td>\n",
       "      <td>68.000000</td>\n",
       "      <td>0.000000</td>\n",
       "      <td>0.000000</td>\n",
       "      <td>0.000000</td>\n",
       "      <td>0.000000</td>\n",
       "      <td>0.000000</td>\n",
       "    </tr>\n",
       "    <tr>\n",
       "      <th>7</th>\n",
       "      <td>max</td>\n",
       "      <td>313.000000</td>\n",
       "      <td>215245.000000</td>\n",
       "      <td>1600.000000</td>\n",
       "      <td>5644.000000</td>\n",
       "      <td>1474.000000</td>\n",
       "      <td>2336.000000</td>\n",
       "      <td>6110.000000</td>\n",
       "      <td>4692.000000</td>\n",
       "      <td>2065.000000</td>\n",
       "      <td>...</td>\n",
       "      <td>3.000000</td>\n",
       "      <td>4.000000</td>\n",
       "      <td>1418.000000</td>\n",
       "      <td>857.000000</td>\n",
       "      <td>547.000000</td>\n",
       "      <td>552.000000</td>\n",
       "      <td>508.000000</td>\n",
       "      <td>480.000000</td>\n",
       "      <td>738.000000</td>\n",
       "      <td>15500.000000</td>\n",
       "    </tr>\n",
       "  </tbody>\n",
       "</table>\n",
       "<p>8 rows × 25 columns</p>\n",
       "</div>"
      ],
      "text/plain": [
       "   index  LotFrontage        LotArea   MasVnrArea   BsmtFinSF1   BsmtFinSF2  \\\n",
       "0  count  1201.000000    1460.000000  1452.000000  1460.000000  1460.000000   \n",
       "1   mean    70.049958   10516.828082   103.685262   443.639726    46.549315   \n",
       "2    std    24.284752    9981.264932   181.066207   456.098091   161.319273   \n",
       "3    min    21.000000    1300.000000     0.000000     0.000000     0.000000   \n",
       "4    25%    59.000000    7553.500000     0.000000     0.000000     0.000000   \n",
       "5    50%    69.000000    9478.500000     0.000000   383.500000     0.000000   \n",
       "6    75%    80.000000   11601.500000   166.000000   712.250000     0.000000   \n",
       "7    max   313.000000  215245.000000  1600.000000  5644.000000  1474.000000   \n",
       "\n",
       "     BsmtUnfSF  TotalBsmtSF     1stFlrSF     2ndFlrSF  ...   Fireplaces  \\\n",
       "0  1460.000000  1460.000000  1460.000000  1460.000000  ...  1460.000000   \n",
       "1   567.240411  1057.429452  1162.626712   346.992466  ...     0.613014   \n",
       "2   441.866955   438.705324   386.587738   436.528436  ...     0.644666   \n",
       "3     0.000000     0.000000   334.000000     0.000000  ...     0.000000   \n",
       "4   223.000000   795.750000   882.000000     0.000000  ...     0.000000   \n",
       "5   477.500000   991.500000  1087.000000     0.000000  ...     1.000000   \n",
       "6   808.000000  1298.250000  1391.250000   728.000000  ...     1.000000   \n",
       "7  2336.000000  6110.000000  4692.000000  2065.000000  ...     3.000000   \n",
       "\n",
       "    GarageCars   GarageArea   WoodDeckSF  OpenPorchSF  EnclosedPorch  \\\n",
       "0  1460.000000  1460.000000  1460.000000  1460.000000    1460.000000   \n",
       "1     1.767123   472.980137    94.244521    46.660274      21.954110   \n",
       "2     0.747315   213.804841   125.338794    66.256028      61.119149   \n",
       "3     0.000000     0.000000     0.000000     0.000000       0.000000   \n",
       "4     1.000000   334.500000     0.000000     0.000000       0.000000   \n",
       "5     2.000000   480.000000     0.000000    25.000000       0.000000   \n",
       "6     2.000000   576.000000   168.000000    68.000000       0.000000   \n",
       "7     4.000000  1418.000000   857.000000   547.000000     552.000000   \n",
       "\n",
       "     3SsnPorch  ScreenPorch     PoolArea       MiscVal  \n",
       "0  1460.000000  1460.000000  1460.000000   1460.000000  \n",
       "1     3.409589    15.060959     2.758904     43.489041  \n",
       "2    29.317331    55.757415    40.177307    496.123024  \n",
       "3     0.000000     0.000000     0.000000      0.000000  \n",
       "4     0.000000     0.000000     0.000000      0.000000  \n",
       "5     0.000000     0.000000     0.000000      0.000000  \n",
       "6     0.000000     0.000000     0.000000      0.000000  \n",
       "7   508.000000   480.000000   738.000000  15500.000000  \n",
       "\n",
       "[8 rows x 25 columns]"
      ]
     },
     "execution_count": 4,
     "metadata": {},
     "output_type": "execute_result"
    }
   ],
   "source": [
    "data_numerical.describe().reset_index()"
   ]
  },
  {
   "cell_type": "markdown",
   "metadata": {},
   "source": [
    "### Baseline model"
   ]
  },
  {
   "cell_type": "code",
   "execution_count": 5,
   "metadata": {},
   "outputs": [
    {
     "data": {
      "text/plain": [
       "{'fit_time': array([1.72754288, 0.10228324, 0.0466454 , 0.02994227, 0.03013158,\n",
       "        0.13690615, 0.03058457, 0.17375755, 0.11957955, 0.1789515 ]),\n",
       " 'score_time': array([0.00940967, 0.0131588 , 0.00855708, 0.00945234, 0.00834441,\n",
       "        0.00922441, 0.01055455, 0.00991106, 0.0195446 , 0.01799393]),\n",
       " 'estimator': [Pipeline(steps=[('standardscaler', StandardScaler()),\n",
       "                  ('simpleimputer', SimpleImputer()),\n",
       "                  ('linearregression', LinearRegression())]),\n",
       "  Pipeline(steps=[('standardscaler', StandardScaler()),\n",
       "                  ('simpleimputer', SimpleImputer()),\n",
       "                  ('linearregression', LinearRegression())]),\n",
       "  Pipeline(steps=[('standardscaler', StandardScaler()),\n",
       "                  ('simpleimputer', SimpleImputer()),\n",
       "                  ('linearregression', LinearRegression())]),\n",
       "  Pipeline(steps=[('standardscaler', StandardScaler()),\n",
       "                  ('simpleimputer', SimpleImputer()),\n",
       "                  ('linearregression', LinearRegression())]),\n",
       "  Pipeline(steps=[('standardscaler', StandardScaler()),\n",
       "                  ('simpleimputer', SimpleImputer()),\n",
       "                  ('linearregression', LinearRegression())]),\n",
       "  Pipeline(steps=[('standardscaler', StandardScaler()),\n",
       "                  ('simpleimputer', SimpleImputer()),\n",
       "                  ('linearregression', LinearRegression())]),\n",
       "  Pipeline(steps=[('standardscaler', StandardScaler()),\n",
       "                  ('simpleimputer', SimpleImputer()),\n",
       "                  ('linearregression', LinearRegression())]),\n",
       "  Pipeline(steps=[('standardscaler', StandardScaler()),\n",
       "                  ('simpleimputer', SimpleImputer()),\n",
       "                  ('linearregression', LinearRegression())]),\n",
       "  Pipeline(steps=[('standardscaler', StandardScaler()),\n",
       "                  ('simpleimputer', SimpleImputer()),\n",
       "                  ('linearregression', LinearRegression())]),\n",
       "  Pipeline(steps=[('standardscaler', StandardScaler()),\n",
       "                  ('simpleimputer', SimpleImputer()),\n",
       "                  ('linearregression', LinearRegression())])],\n",
       " 'test_score': array([0.76155426, 0.80637769, 0.81189045, 0.66296716, 0.79173789,\n",
       "        0.76869598, 0.7568747 , 0.71823778, 0.30695853, 0.78635675])}"
      ]
     },
     "execution_count": 5,
     "metadata": {},
     "output_type": "execute_result"
    }
   ],
   "source": [
    "from sklearn.linear_model import LinearRegression, Ridge, RidgeCV\n",
    "from sklearn.model_selection import cross_validate\n",
    "from sklearn.preprocessing import StandardScaler\n",
    "from sklearn.impute import SimpleImputer\n",
    "from sklearn.pipeline import make_pipeline\n",
    "\n",
    "import matplotlib.pyplot as plt\n",
    "\n",
    "model_baseline = make_pipeline(StandardScaler(), SimpleImputer(), LinearRegression())\n",
    "\n",
    "cv_result = cross_validate(model_baseline, data_numerical, target, cv=10, return_estimator=True)\n",
    "cv_result"
   ]
  },
  {
   "cell_type": "code",
   "execution_count": 9,
   "metadata": {},
   "outputs": [],
   "source": [
    "import matplotlib.pyplot as plt\n",
    "import seaborn as sns\n",
    "\n",
    "sns.set_context(\"talk\")\n",
    "# Define the style of the box style\n",
    "boxplot_property = {\n",
    "    \"vert\": True,\n",
    "    \"whis\": 100,\n",
    "    \"patch_artist\": True,\n",
    "    \"widths\": 0.5,\n",
    "    \"rot\": 90,\n",
    "    \"boxprops\": dict(linewidth=3, color=\"black\", alpha=0.9),\n",
    "    \"medianprops\": dict(linewidth=2.5, color=\"black\", alpha=0.9),\n",
    "    \"whiskerprops\": dict(linewidth=3, color=\"black\", alpha=0.9),\n",
    "    \"capprops\": dict(linewidth=3, color=\"black\", alpha=0.9),\n",
    "}"
   ]
  },
  {
   "cell_type": "code",
   "execution_count": 8,
   "metadata": {},
   "outputs": [
    {
     "data": {
      "image/png": "[encoded data removed]",
      "text/plain": [
       "<Figure size 1080x720 with 1 Axes>"
      ]
     },
     "metadata": {
      "needs_background": "light"
     },
     "output_type": "display_data"
    }
   ],
   "source": [
    "model_ridge = make_pipeline(StandardScaler(), SimpleImputer(), Ridge())\n",
    "\n",
    "cv_result = cross_validate(model_ridge, data_numerical, target, cv=10, return_estimator=True)\n",
    "cv_result\n",
    "\n",
    "coefs = [estimator[-1].coef_ for estimator in cv_result[\"estimator\"]]\n",
    "coefs = pd.DataFrame(coefs, columns=numerical_features)\n",
    "coefs.describe().loc[[\"min\", \"max\"]]\n",
    "\n",
    "_, ax = plt.subplots(figsize=(15, 10))\n",
    "_ = coefs.abs().plot.box(**boxplot_property, ax=ax)"
   ]
  },
  {
   "cell_type": "code",
   "execution_count": 10,
   "metadata": {},
   "outputs": [
    {
     "data": {
      "image/png": "[encoded data removed]",
      "text/plain": [
       "<Figure size 1080x720 with 1 Axes>"
      ]
     },
     "metadata": {
      "needs_background": "light"
     },
     "output_type": "display_data"
    }
   ],
   "source": [
    "model_ridge = make_pipeline(StandardScaler(), SimpleImputer(), Ridge())\n",
    "\n",
    "cv_result = cross_validate(model_ridge, data_numerical[numerical_features], target, cv=10, return_estimator=True)\n",
    "cv_result\n",
    "\n",
    "coefs = [estimator[-1].coef_ for estimator in cv_result[\"estimator\"]]\n",
    "coefs = pd.DataFrame(coefs, columns=numerical_features)\n",
    "coefs.describe().loc[[\"min\", \"max\"]]\n",
    "\n",
    "_, ax = plt.subplots(figsize=(15, 10))\n",
    "_ = coefs.abs().plot.box(**boxplot_property, ax=ax)"
   ]
  },
  {
   "cell_type": "code",
   "execution_count": 38,
   "metadata": {},
   "outputs": [],
   "source": [
    "import numpy as np\n",
    "alphas = np.logspace(-1, 3, num=30)\n",
    "coef = []\n",
    "for i in alphas:\n",
    "    ridge_cv = make_pipeline( SimpleImputer(), RidgeCV(alphas=i))\n",
    "    ridge_cv.fit(data_numerical, target)\n",
    "    coef.append(np.max(ridge_cv[\"ridgecv\"].coef_))\n",
    "\n"
   ]
  },
  {
   "cell_type": "code",
   "execution_count": 39,
   "metadata": {},
   "outputs": [
    {
     "data": {
      "text/plain": [
       "[26299.935751984827,\n",
       " 26294.289390363963,\n",
       " 26286.536335257115,\n",
       " 26275.89264203084,\n",
       " 26261.284481226583,\n",
       " 26241.24257029558,\n",
       " 26213.759595483134,\n",
       " 26176.098922587844,\n",
       " 26124.54034475921,\n",
       " 26054.04662125926,\n",
       " 25957.834506869884,\n",
       " 25826.838549666718,\n",
       " 25649.069992092336,\n",
       " 25408.90464788525,\n",
       " 25086.39436788821,\n",
       " 24656.800478984693,\n",
       " 24090.702644703826,\n",
       " 23355.225685476926,\n",
       " 22417.07035021865,\n",
       " 21247.948235056658,\n",
       " 19832.4296625102,\n",
       " 18176.923331591926,\n",
       " 16316.807301745504,\n",
       " 14317.736602990437,\n",
       " 12268.359668102303,\n",
       " 10265.396730442457,\n",
       " 8396.151936667255,\n",
       " 6724.860366330859,\n",
       " 5286.795659702055,\n",
       " 4090.004894736294]"
      ]
     },
     "execution_count": 39,
     "metadata": {},
     "output_type": "execute_result"
    }
   ],
   "source": [
    "coef"
   ]
  },
  {
   "cell_type": "markdown",
   "metadata": {},
   "source": [
    "# Census adult"
   ]
  },
  {
   "cell_type": "code",
   "execution_count": 79,
   "metadata": {},
   "outputs": [],
   "source": [
    "adult_census = pd.read_csv(\"../datasets/adult-census.csv\")\n",
    "target = adult_census[\"class\"]\n",
    "data = adult_census.select_dtypes([\"integer\", \"floating\"])\n",
    "data = data.drop(columns=[\"education-num\"])"
   ]
  },
  {
   "cell_type": "code",
   "execution_count": 88,
   "metadata": {},
   "outputs": [
    {
     "data": {
      "text/html": [
       "<div>\n",
       "<style scoped>\n",
       "    .dataframe tbody tr th:only-of-type {\n",
       "        vertical-align: middle;\n",
       "    }\n",
       "\n",
       "    .dataframe tbody tr th {\n",
       "        vertical-align: top;\n",
       "    }\n",
       "\n",
       "    .dataframe thead th {\n",
       "        text-align: right;\n",
       "    }\n",
       "</style>\n",
       "<table border=\"1\" class=\"dataframe\">\n",
       "  <thead>\n",
       "    <tr style=\"text-align: right;\">\n",
       "      <th></th>\n",
       "      <th>age</th>\n",
       "      <th>capital-gain</th>\n",
       "      <th>capital-loss</th>\n",
       "      <th>hours-per-week</th>\n",
       "    </tr>\n",
       "  </thead>\n",
       "  <tbody>\n",
       "    <tr>\n",
       "      <th>0</th>\n",
       "      <td>25</td>\n",
       "      <td>0</td>\n",
       "      <td>0</td>\n",
       "      <td>40</td>\n",
       "    </tr>\n",
       "    <tr>\n",
       "      <th>1</th>\n",
       "      <td>38</td>\n",
       "      <td>0</td>\n",
       "      <td>0</td>\n",
       "      <td>50</td>\n",
       "    </tr>\n",
       "    <tr>\n",
       "      <th>2</th>\n",
       "      <td>28</td>\n",
       "      <td>0</td>\n",
       "      <td>0</td>\n",
       "      <td>40</td>\n",
       "    </tr>\n",
       "    <tr>\n",
       "      <th>3</th>\n",
       "      <td>44</td>\n",
       "      <td>7688</td>\n",
       "      <td>0</td>\n",
       "      <td>40</td>\n",
       "    </tr>\n",
       "    <tr>\n",
       "      <th>4</th>\n",
       "      <td>18</td>\n",
       "      <td>0</td>\n",
       "      <td>0</td>\n",
       "      <td>30</td>\n",
       "    </tr>\n",
       "  </tbody>\n",
       "</table>\n",
       "</div>"
      ],
      "text/plain": [
       "   age  capital-gain  capital-loss  hours-per-week\n",
       "0   25             0             0              40\n",
       "1   38             0             0              50\n",
       "2   28             0             0              40\n",
       "3   44          7688             0              40\n",
       "4   18             0             0              30"
      ]
     },
     "execution_count": 88,
     "metadata": {},
     "output_type": "execute_result"
    }
   ],
   "source": [
    "data.head()"
   ]
  },
  {
   "cell_type": "code",
   "execution_count": 89,
   "metadata": {},
   "outputs": [
    {
     "name": "stdout",
     "output_type": "stream",
     "text": [
      "<class 'pandas.core.frame.DataFrame'>\n",
      "RangeIndex: 48842 entries, 0 to 48841\n",
      "Data columns (total 4 columns):\n",
      " #   Column          Non-Null Count  Dtype\n",
      "---  ------          --------------  -----\n",
      " 0   age             48842 non-null  int64\n",
      " 1   capital-gain    48842 non-null  int64\n",
      " 2   capital-loss    48842 non-null  int64\n",
      " 3   hours-per-week  48842 non-null  int64\n",
      "dtypes: int64(4)\n",
      "memory usage: 1.5 MB\n"
     ]
    }
   ],
   "source": [
    "data.info()"
   ]
  },
  {
   "cell_type": "code",
   "execution_count": 102,
   "metadata": {},
   "outputs": [
    {
     "data": {
      "text/plain": [
       "0.7607182352166999"
      ]
     },
     "metadata": {},
     "output_type": "display_data"
    },
    {
     "data": {
      "text/plain": [
       "0.7998445658834604"
      ]
     },
     "metadata": {},
     "output_type": "display_data"
    }
   ],
   "source": [
    "from sklearn.dummy import DummyClassifier\n",
    "from sklearn.linear_model import LogisticRegression\n",
    "\n",
    "\n",
    "model_dummy = make_pipeline(StandardScaler(), DummyClassifier(strategy=\"most_frequent\"))\n",
    "cv_result = cross_validate(model_dummy, data, target, cv=10)\n",
    "display(cv_result[\"test_score\"].mean())\n",
    "\n",
    "\n",
    "model_logist = make_pipeline(StandardScaler(), LogisticRegression())\n",
    "cv_result = cross_validate(model_logist, data, target, cv=10, return_estimator=True)\n",
    "display(cv_result[\"test_score\"].mean())"
   ]
  },
  {
   "cell_type": "code",
   "execution_count": 115,
   "metadata": {},
   "outputs": [
    {
     "data": {
      "text/plain": [
       "<matplotlib.axes._subplots.AxesSubplot at 0x7ff5827ea8d0>"
      ]
     },
     "execution_count": 115,
     "metadata": {},
     "output_type": "execute_result"
    },
    {
     "data": {
      "image/png": "[encoded data removed]",
      "text/plain": [
       "<Figure size 1080x720 with 1 Axes>"
      ]
     },
     "metadata": {
      "needs_background": "light"
     },
     "output_type": "display_data"
    }
   ],
   "source": [
    "coefs = [estimator[-1].coef_[0] for estimator in cv_result[\"estimator\"]]\n",
    "coefs = pd.DataFrame(coefs, columns=data.columns)\n",
    "_, ax = plt.subplots(figsize=(15, 10))\n",
    "coefs.abs().plot.box(**boxplot_property, ax=ax)"
   ]
  },
  {
   "cell_type": "markdown",
   "metadata": {},
   "source": [
    "# Census adult 2"
   ]
  },
  {
   "cell_type": "code",
   "execution_count": 40,
   "metadata": {},
   "outputs": [],
   "source": [
    "adult_census = pd.read_csv(\"../datasets/adult-census.csv\")\n",
    "target = adult_census[\"class\"]\n",
    "data = adult_census.drop(columns=[\"class\", \"education-num\"])"
   ]
  },
  {
   "cell_type": "code",
   "execution_count": 41,
   "metadata": {},
   "outputs": [
    {
     "name": "stdout",
     "output_type": "stream",
     "text": [
      "<class 'pandas.core.frame.DataFrame'>\n",
      "RangeIndex: 48842 entries, 0 to 48841\n",
      "Data columns (total 12 columns):\n",
      " #   Column          Non-Null Count  Dtype \n",
      "---  ------          --------------  ----- \n",
      " 0   age             48842 non-null  int64 \n",
      " 1   workclass       48842 non-null  object\n",
      " 2   education       48842 non-null  object\n",
      " 3   marital-status  48842 non-null  object\n",
      " 4   occupation      48842 non-null  object\n",
      " 5   relationship    48842 non-null  object\n",
      " 6   race            48842 non-null  object\n",
      " 7   sex             48842 non-null  object\n",
      " 8   capital-gain    48842 non-null  int64 \n",
      " 9   capital-loss    48842 non-null  int64 \n",
      " 10  hours-per-week  48842 non-null  int64 \n",
      " 11  native-country  48842 non-null  object\n",
      "dtypes: int64(4), object(8)\n",
      "memory usage: 4.5+ MB\n"
     ]
    }
   ],
   "source": [
    "data.info()"
   ]
  }
 ],
 "metadata": {
  "interpreter": {
   "hash": "fae9e2b69ee501c3568b3c6beacdd2edb95ec4c99ec41c109a6ca4e6988cac43"
  },
  "kernelspec": {
   "display_name": "Python 3.7.6 64-bit ('anaconda3': virtualenv)",
   "name": "python3"
  },
  "language_info": {
   "codemirror_mode": {
    "name": "ipython",
    "version": 3
   },
   "file_extension": ".py",
   "mimetype": "text/x-python",
   "name": "python",
   "nbconvert_exporter": "python",
   "pygments_lexer": "ipython3",
   "version": "3.7.6"
  },
  "orig_nbformat": 4
 },
 "nbformat": 4,
 "nbformat_minor": 2
}