{
 "cells": [
  {
   "cell_type": "code",
   "execution_count": 1,
   "metadata": {},
   "outputs": [],
   "source": [
    "import pandas as pd\n",
    "\n",
    "blood_transfusion = pd.read_csv(\"../datasets/blood_transfusion.csv\")\n",
    "data = blood_transfusion.drop(columns=\"Class\")\n",
    "target = blood_transfusion[\"Class\"]"
   ]
  },
  {
   "cell_type": "markdown",
   "metadata": {},
   "source": [
    "## Dummy classifier"
   ]
  },
  {
   "cell_type": "code",
   "execution_count": 25,
   "metadata": {},
   "outputs": [
    {
     "name": "stdout",
     "output_type": "stream",
     "text": [
      "Average accuracy: 0.762\n",
      "Average balanced accuracy: 0.500\n"
     ]
    }
   ],
   "source": [
    "from sklearn.dummy import DummyClassifier\n",
    "from sklearn.model_selection import cross_validate, cross_val_score\n",
    "\n",
    "dummy = DummyClassifier(strategy=\"most_frequent\")\n",
    "cv_result = cross_validate(dummy, data, target, cv=10, scoring=[\"accuracy\", \"balanced_accuracy\"])\n",
    "\n",
    "print(f\"Average accuracy: {cv_result['test_accuracy'].mean():.3f}\")\n",
    "print(f\"Average balanced accuracy: \"\n",
    "      f\"{cv_result['test_balanced_accuracy'].mean():.3f}\")"
   ]
  },
  {
   "cell_type": "code",
   "execution_count": 9,
   "metadata": {},
   "outputs": [
    {
     "name": "stdout",
     "output_type": "stream",
     "text": [
      "Average accuracy: 0.627\n",
      "Average balanced accuracy: 0.509\n"
     ]
    }
   ],
   "source": [
    "from sklearn.tree import DecisionTreeClassifier\n",
    "\n",
    "tree = DecisionTreeClassifier()\n",
    "cv_result_tree = cross_validate(tree, data, target, cv=10, scoring=[\"accuracy\", \"balanced_accuracy\"])\n",
    "\n",
    "print(f\"Average accuracy: {cv_result_tree['test_accuracy'].mean():.3f}\")\n",
    "print(f\"Average balanced accuracy: \"\n",
    "      f\"{cv_result_tree['test_balanced_accuracy'].mean():.3f}\")\n"
   ]
  },
  {
   "cell_type": "code",
   "execution_count": 20,
   "metadata": {},
   "outputs": [
    {
     "name": "stdout",
     "output_type": "stream",
     "text": [
      "Average accuracy: 0.669\n",
      "Average balanced accuracy: 0.530\n"
     ]
    }
   ],
   "source": [
    "from sklearn.ensemble import RandomForestClassifier, GradientBoostingClassifier\n",
    "\n",
    "random = RandomForestClassifier(n_estimators=300, n_jobs=-1)\n",
    "cv_result_random = cross_validate(random, data, target, cv=10, scoring=[\"accuracy\", \"balanced_accuracy\"],\n",
    "                            n_jobs=-1)\n",
    "\n",
    "print(f\"Average accuracy: {cv_result_random['test_accuracy'].mean():.3f}\")\n",
    "print(f\"Average balanced accuracy: \"\n",
    "      f\"{cv_result_random['test_balanced_accuracy'].mean():.3f}\")\n"
   ]
  },
  {
   "cell_type": "code",
   "execution_count": 54,
   "metadata": {},
   "outputs": [
    {
     "name": "stdout",
     "output_type": "stream",
     "text": [
      "Average accuracy: 0.691\n",
      "Average balanced accuracy: 0.537\n"
     ]
    }
   ],
   "source": [
    "boosting = GradientBoostingClassifier(n_estimators=300, random_state=0)\n",
    "cv_result_boosting = cross_validate(boosting, data, target, cv=10, scoring=[\"accuracy\", \"balanced_accuracy\"],\n",
    "                            n_jobs=-1)\n",
    "\n",
    "print(f\"Average accuracy: {cv_result_boosting['test_accuracy'].mean():.3f}\")\n",
    "print(f\"Average balanced accuracy: \"\n",
    "      f\"{cv_result_boosting['test_balanced_accuracy'].mean():.3f}\")\n"
   ]
  },
  {
   "cell_type": "code",
   "execution_count": 27,
   "metadata": {},
   "outputs": [
    {
     "data": {
      "text/plain": [
       "10"
      ]
     },
     "execution_count": 27,
     "metadata": {},
     "output_type": "execute_result"
    }
   ],
   "source": [
    "from sklearn.model_selection import KFold\n",
    "from sklearn.\n",
    "\n",
    "n_try = 10\n",
    "scores_rf, scores_gbdt = [], []\n",
    "for seed in range(n_try):\n",
    "    cv = KFold(n_splits=10, shuffle=True, random_state=seed)\n",
    "\n",
    "    rf = RandomForestClassifier(n_estimators=300, n_jobs=-1)\n",
    "    scores = cross_val_score(\n",
    "        rf, data, target, cv=cv, scoring=\"balanced_accuracy\", n_jobs=-1\n",
    "    )\n",
    "    scores_rf.append(scores.mean())\n",
    "\n",
    "    gbdt = GradientBoostingClassifier(n_estimators=300)\n",
    "    scores = cross_val_score(\n",
    "        gbdt, data, target, cv=cv, scoring=\"balanced_accuracy\", n_jobs=-1\n",
    "    )\n",
    "    scores_gbdt.append(scores.mean())\n",
    "\n",
    "\n",
    "\n",
    "\n",
    "compare = [s_gbdt > s_rf for s_gbdt, s_rf in zip(scores_gbdt, scores_rf)]\n",
    "sum(compare)"
   ]
  },
  {
   "cell_type": "code",
   "execution_count": 30,
   "metadata": {},
   "outputs": [
    {
     "data": {
      "text/plain": [
       "[0.6116416991509557,\n",
       " 0.6082180772939754,\n",
       " 0.5974543503674362,\n",
       " 0.6166012516291297,\n",
       " 0.5948119960417708,\n",
       " 0.5987164058221208,\n",
       " 0.5981547417134458,\n",
       " 0.5995651060915913,\n",
       " 0.6195456729019899,\n",
       " 0.602401617037815]"
      ]
     },
     "execution_count": 30,
     "metadata": {},
     "output_type": "execute_result"
    }
   ],
   "source": [
    "scores_gbdt"
   ]
  },
  {
   "cell_type": "code",
   "execution_count": 29,
   "metadata": {},
   "outputs": [
    {
     "data": {
      "text/plain": [
       "[0.5967984312894067,\n",
       " 0.5952372773691187,\n",
       " 0.5898847668914124,\n",
       " 0.5972254909875587,\n",
       " 0.5930820018261497,\n",
       " 0.5923257447082079,\n",
       " 0.5846185210443695,\n",
       " 0.5867442886420675,\n",
       " 0.6140910708871163,\n",
       " 0.5897907363740011]"
      ]
     },
     "execution_count": 29,
     "metadata": {},
     "output_type": "execute_result"
    }
   ],
   "source": [
    "scores_rf"
   ]
  },
  {
   "cell_type": "code",
   "execution_count": 59,
   "metadata": {},
   "outputs": [
    {
     "data": {
      "text/plain": [
       "0.5546955624355004"
      ]
     },
     "execution_count": 59,
     "metadata": {},
     "output_type": "execute_result"
    }
   ],
   "source": [
    "ghist = HistGradientBoostingClassifier( max_iter=1000, early_stopping=True, random_state=0)\n",
    "score_ghist = cross_validate(ghist, data, target, cv=10, scoring=\"balanced_accuracy\",\n",
    "                            n_jobs=-1, return_estimator=True)\n",
    "score_ghist[\"test_score\"].mean()"
   ]
  },
  {
   "cell_type": "code",
   "execution_count": 75,
   "metadata": {},
   "outputs": [
    {
     "data": {
      "text/plain": [
       "27"
      ]
     },
     "execution_count": 75,
     "metadata": {},
     "output_type": "execute_result"
    }
   ],
   "source": [
    "score_ghist[\"estimator\"][1].n_iter_"
   ]
  },
  {
   "cell_type": "code",
   "execution_count": 76,
   "metadata": {},
   "outputs": [],
   "source": [
    "from sklearn.experimental import enable_hist_gradient_boosting\n",
    "from sklearn.ensemble import HistGradientBoostingClassifier\n",
    "\n",
    "n_try = 10\n",
    "scores_rf, scores_gbdt, scores_ghist = [], [], []\n",
    "for seed in range(n_try):\n",
    "    cv = KFold(n_splits=10, shuffle=True, random_state=seed)\n",
    "\n",
    "    rf = RandomForestClassifier(n_estimators=300, n_jobs=-1)\n",
    "    scores = cross_val_score(\n",
    "        rf, data, target, cv=cv, scoring=\"balanced_accuracy\", n_jobs=-1\n",
    "    )\n",
    "    scores_rf.append(scores.mean())\n",
    "\n",
    "    gbdt = GradientBoostingClassifier(n_estimators=300)\n",
    "    scores = cross_val_score(\n",
    "        gbdt, data, target, cv=cv, scoring=\"balanced_accuracy\", n_jobs=-1\n",
    "    )\n",
    "    scores_gbdt.append(scores.mean())\n",
    "\n",
    "    ghist = HistGradientBoostingClassifier(max_iter=1000, early_stopping=True)\n",
    "    scores = cross_val_score(ghist, data, target, cv=cv, scoring=\"balanced_accuracy\",\n",
    "                            n_jobs=-1)\n",
    "    scores_ghist.append(scores.mean())\n"
   ]
  },
  {
   "cell_type": "code",
   "execution_count": 78,
   "metadata": {},
   "outputs": [
    {
     "data": {
      "text/html": [
       "<div>\n",
       "<style scoped>\n",
       "    .dataframe tbody tr th:only-of-type {\n",
       "        vertical-align: middle;\n",
       "    }\n",
       "\n",
       "    .dataframe tbody tr th {\n",
       "        vertical-align: top;\n",
       "    }\n",
       "\n",
       "    .dataframe thead th {\n",
       "        text-align: right;\n",
       "    }\n",
       "</style>\n",
       "<table border=\"1\" class=\"dataframe\">\n",
       "  <thead>\n",
       "    <tr style=\"text-align: right;\">\n",
       "      <th></th>\n",
       "      <th>Random</th>\n",
       "      <th>Boosting</th>\n",
       "      <th>HistBoosting</th>\n",
       "    </tr>\n",
       "  </thead>\n",
       "  <tbody>\n",
       "    <tr>\n",
       "      <th>0</th>\n",
       "      <td>0.598795</td>\n",
       "      <td>0.611642</td>\n",
       "      <td>0.623253</td>\n",
       "    </tr>\n",
       "    <tr>\n",
       "      <th>1</th>\n",
       "      <td>0.592430</td>\n",
       "      <td>0.608218</td>\n",
       "      <td>0.611034</td>\n",
       "    </tr>\n",
       "    <tr>\n",
       "      <th>2</th>\n",
       "      <td>0.585083</td>\n",
       "      <td>0.596592</td>\n",
       "      <td>0.607850</td>\n",
       "    </tr>\n",
       "    <tr>\n",
       "      <th>3</th>\n",
       "      <td>0.600522</td>\n",
       "      <td>0.616601</td>\n",
       "      <td>0.619452</td>\n",
       "    </tr>\n",
       "    <tr>\n",
       "      <th>4</th>\n",
       "      <td>0.598287</td>\n",
       "      <td>0.591419</td>\n",
       "      <td>0.601229</td>\n",
       "    </tr>\n",
       "    <tr>\n",
       "      <th>5</th>\n",
       "      <td>0.598516</td>\n",
       "      <td>0.598716</td>\n",
       "      <td>0.599582</td>\n",
       "    </tr>\n",
       "    <tr>\n",
       "      <th>6</th>\n",
       "      <td>0.580766</td>\n",
       "      <td>0.598155</td>\n",
       "      <td>0.627210</td>\n",
       "    </tr>\n",
       "    <tr>\n",
       "      <th>7</th>\n",
       "      <td>0.579632</td>\n",
       "      <td>0.596232</td>\n",
       "      <td>0.620644</td>\n",
       "    </tr>\n",
       "    <tr>\n",
       "      <th>8</th>\n",
       "      <td>0.598771</td>\n",
       "      <td>0.619546</td>\n",
       "      <td>0.619333</td>\n",
       "    </tr>\n",
       "    <tr>\n",
       "      <th>9</th>\n",
       "      <td>0.598349</td>\n",
       "      <td>0.602402</td>\n",
       "      <td>0.607141</td>\n",
       "    </tr>\n",
       "  </tbody>\n",
       "</table>\n",
       "</div>"
      ],
      "text/plain": [
       "     Random  Boosting  HistBoosting\n",
       "0  0.598795  0.611642      0.623253\n",
       "1  0.592430  0.608218      0.611034\n",
       "2  0.585083  0.596592      0.607850\n",
       "3  0.600522  0.616601      0.619452\n",
       "4  0.598287  0.591419      0.601229\n",
       "5  0.598516  0.598716      0.599582\n",
       "6  0.580766  0.598155      0.627210\n",
       "7  0.579632  0.596232      0.620644\n",
       "8  0.598771  0.619546      0.619333\n",
       "9  0.598349  0.602402      0.607141"
      ]
     },
     "execution_count": 78,
     "metadata": {},
     "output_type": "execute_result"
    }
   ],
   "source": [
    "pd.DataFrame({\"Random\":scores_rf, \"Boosting\":scores_gbdt, \"HistBoosting\":scores_ghist})"
   ]
  },
  {
   "cell_type": "code",
   "execution_count": 79,
   "metadata": {},
   "outputs": [
    {
     "data": {
      "text/plain": [
       "1"
      ]
     },
     "execution_count": 79,
     "metadata": {},
     "output_type": "execute_result"
    }
   ],
   "source": [
    "compare = [s_gbdt > s_rf for s_gbdt, s_rf in zip(scores_gbdt, scores_ghist)]\n",
    "sum(compare)"
   ]
  },
  {
   "cell_type": "code",
   "execution_count": 85,
   "metadata": {},
   "outputs": [
    {
     "data": {
      "text/plain": [
       "0.5944702442380461"
      ]
     },
     "execution_count": 85,
     "metadata": {},
     "output_type": "execute_result"
    }
   ],
   "source": [
    "from imblearn.ensemble import BalancedBaggingClassifier\n",
    "\n",
    "base_clase = HistGradientBoostingClassifier(max_iter=1000, early_stopping=True)\n",
    "balanced_bagging = BalancedBaggingClassifier(base_clase, n_estimators=50)\n",
    "\n",
    "cv_result = cross_validate(balanced_bagging, data, target, cv=10, n_jobs=-1, scoring=\"balanced_accuracy\")\n",
    "cv_result[\"test_score\"].mean()"
   ]
  }
 ],
 "metadata": {
  "interpreter": {
   "hash": "fae9e2b69ee501c3568b3c6beacdd2edb95ec4c99ec41c109a6ca4e6988cac43"
  },
  "kernelspec": {
   "display_name": "Python 3.7.6 64-bit ('base': conda)",
   "name": "python3"
  },
  "language_info": {
   "codemirror_mode": {
    "name": "ipython",
    "version": 3
   },
   "file_extension": ".py",
   "mimetype": "text/x-python",
   "name": "python",
   "nbconvert_exporter": "python",
   "pygments_lexer": "ipython3",
   "version": "3.7.6"
  },
  "orig_nbformat": 4
 },
 "nbformat": 4,
 "nbformat_minor": 2
}